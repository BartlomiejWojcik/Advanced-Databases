{
 "cells": [
  {
   "cell_type": "code",
   "execution_count": 2,
   "metadata": {},
   "outputs": [
    {
     "name": "stdout",
     "output_type": "stream",
     "text": [
      "7747.731625720093\n",
      "(7747.731625720093+2j)\n"
     ]
    }
   ],
   "source": [
    "# Zadanie 1\n",
    "import math\n",
    "k = 1240 * math.sqrt(7)\n",
    "m = 4467\n",
    "l = 2j\n",
    "d =  k + m\n",
    "c = d + l\n",
    "print(d)\n",
    "print(c)"
   ]
  },
  {
   "cell_type": "code",
   "execution_count": 3,
   "metadata": {},
   "outputs": [
    {
     "name": "stdout",
     "output_type": "stream",
     "text": [
      "7747.732\n",
      "7747.731625720093\n"
     ]
    }
   ],
   "source": [
    "# Zadanie 2\n",
    "print(\"%.3f\" % (d))\n",
    "print(\"%.12f\" % (d))"
   ]
  },
  {
   "cell_type": "code",
   "execution_count": 4,
   "metadata": {},
   "outputs": [
    {
     "name": "stdout",
     "output_type": "stream",
     "text": [
      "3738.495257771854\n"
     ]
    }
   ],
   "source": [
    "# Zadanie 3\n",
    "r = 17\n",
    "h = 33\n",
    "F = 2 * (2 * math.pi * r) + 2 * math.pi * r * h\n",
    "print(F)"
   ]
  },
  {
   "cell_type": "code",
   "execution_count": 5,
   "metadata": {},
   "outputs": [],
   "source": [
    "# Zadanie 4"
   ]
  },
  {
   "cell_type": "code",
   "execution_count": 6,
   "metadata": {},
   "outputs": [
    {
     "name": "stdout",
     "output_type": "stream",
     "text": [
      "0.6585996680785801\n"
     ]
    }
   ],
   "source": [
    "# Zadanie 5\n",
    "x1 = 1\n",
    "t = 2\n",
    "r = 3\n",
    "B = ((x1 + r)/(r * math.sin(2*x1) + 3.3456))*pow(x1,(t*r))\n",
    "print(B)"
   ]
  },
  {
   "cell_type": "code",
   "execution_count": 9,
   "metadata": {},
   "outputs": [],
   "source": [
    "import numpy as np"
   ]
  },
  {
   "cell_type": "code",
   "execution_count": 10,
   "metadata": {},
   "outputs": [
    {
     "name": "stdout",
     "output_type": "stream",
     "text": [
      "[[ 1.41421356  1.         -1.41421356]\n",
      " [ 0.          1.          1.        ]\n",
      " [-1.41421356  1.41421356  1.        ]]\n"
     ]
    }
   ],
   "source": [
    "# Zadanie 6\n",
    "a = math.sqrt(2)\n",
    "M = np.array([[a,1,-a],[0,1,1],[-a,a,1]])\n",
    "Minv = linalg.inv(M)\n",
    "Mdet = linalg.det(M)\n",
    "MTran = transpose(M)\n",
    "print(M)"
   ]
  },
  {
   "cell_type": "code",
   "execution_count": 11,
   "metadata": {},
   "outputs": [
    {
     "name": "stdout",
     "output_type": "stream",
     "text": [
      "1.4142135623730951\n",
      "1.0\n",
      "1.4142135623730951\n",
      "[-1.41421356  1.          1.        ]\n",
      "[0. 1. 1.]\n"
     ]
    }
   ],
   "source": [
    "# Zadanie 6\n",
    "print(M[0,0])\n",
    "print(M[2,2])\n",
    "print(M[2,1])\n",
    "w1 = M[:,2]\n",
    "w2 = M[1,:]\n",
    "print(w1)\n",
    "print(w2)"
   ]
  },
  {
   "cell_type": "code",
   "execution_count": 12,
   "metadata": {},
   "outputs": [
    {
     "name": "stdout",
     "output_type": "stream",
     "text": [
      "[ 8.09382888e+00+0.j         -4.99600361e-16+2.j\n",
      " -4.99600361e-16-2.j         -5.46914441e-01+1.24665488j\n",
      " -5.46914441e-01-1.24665488j]\n"
     ]
    }
   ],
   "source": [
    "w = [1,-7,-3,-43,-28,-60]\n",
    "roots = roots(w)\n",
    "print(roots)"
   ]
  },
  {
   "cell_type": "code",
   "execution_count": 13,
   "metadata": {},
   "outputs": [
    {
     "name": "stdout",
     "output_type": "stream",
     "text": [
      "[1.  1.5 2.  2.5 3.  3.5 4.  4.5 5.  5.5 6.  6.5 7.  7.5 8.  8.5 9.  9.5]\n"
     ]
    },
    {
     "name": "stderr",
     "output_type": "stream",
     "text": [
      "D:\\Anaconda3\\lib\\site-packages\\ipykernel_launcher.py:2: DeprecationWarning: object of type <class 'float'> cannot be safely interpreted as an integer.\n",
      "  \n"
     ]
    }
   ],
   "source": [
    "ar = arange(1,10,0.5)\n",
    "ls = linspace(1,10,0.5)\n",
    "print(ar)\n",
    "# in linspace function step can't be float"
   ]
  },
  {
   "cell_type": "code",
   "execution_count": 14,
   "metadata": {},
   "outputs": [],
   "source": [
    "import matplotlib.pyplot as plt"
   ]
  },
  {
   "cell_type": "code",
   "execution_count": 15,
   "metadata": {},
   "outputs": [
    {
     "data": {
      "text/plain": [
       "[<matplotlib.lines.Line2D at 0x1756ccf0788>]"
      ]
     },
     "execution_count": 15,
     "metadata": {},
     "output_type": "execute_result"
    },
    {
     "data": {
      "image/png": "[encoded data removed]",
      "text/plain": [
       "<Figure size 432x288 with 1 Axes>"
      ]
     },
     "metadata": {
      "needs_background": "light"
     },
     "output_type": "display_data"
    }
   ],
   "source": [
    "def fun1(x):\n",
    "    return x**3-3*x\n",
    "\n",
    "x1 = np.linspace(-1,1)\n",
    "y1 = fun1(x1)\n",
    "plt.plot(x1,y1)"
   ]
  },
  {
   "cell_type": "code",
   "execution_count": 16,
   "metadata": {},
   "outputs": [
    {
     "data": {
      "text/plain": [
       "[<matplotlib.lines.Line2D at 0x1756a47e9c8>]"
      ]
     },
     "execution_count": 16,
     "metadata": {},
     "output_type": "execute_result"
    },
    {
     "data": {
      "image/png": "[encoded data removed]",
      "text/plain": [
       "<Figure size 432x288 with 1 Axes>"
      ]
     },
     "metadata": {
      "needs_background": "light"
     },
     "output_type": "display_data"
    }
   ],
   "source": [
    "x2 = linspace(-5,5)\n",
    "y2 = fun1(x2)\n",
    "plt.plot(x2,y2)"
   ]
  },
  {
   "cell_type": "code",
   "execution_count": 17,
   "metadata": {},
   "outputs": [
    {
     "data": {
      "text/plain": [
       "[<matplotlib.lines.Line2D at 0x1756d824fc8>]"
      ]
     },
     "execution_count": 17,
     "metadata": {},
     "output_type": "execute_result"
    },
    {
     "data": {
      "image/png": "[encoded data removed]",
      "text/plain": [
       "<Figure size 432x288 with 1 Axes>"
      ]
     },
     "metadata": {
      "needs_background": "light"
     },
     "output_type": "display_data"
    }
   ],
   "source": [
    "x3 = np.linspace(0,5)\n",
    "y3 = fun1(x3)\n",
    "plt.plot(x3,y3)"
   ]
  },
  {
   "cell_type": "code",
   "execution_count": 18,
   "metadata": {},
   "outputs": [
    {
     "name": "stdout",
     "output_type": "stream",
     "text": [
      "In Jules: 4500.000000\n",
      "In kilocalories: 1.075526\n"
     ]
    }
   ],
   "source": [
    "# Zadnaie 10\n",
    "\n",
    "m1 = 2.5\n",
    "v1 = 60\n",
    "\n",
    "def heat(m,v):\n",
    "    return (m*v**2)/2\n",
    "\n",
    "h1 = heat(m1,v1)\n",
    "h1kcal = h1 * 0.000239005736\n",
    "print(\"In Jules: %f\" % h1)\n",
    "print(\"In kilocalories: %f\" % h1kcal)"
   ]
  },
  {
   "cell_type": "code",
   "execution_count": 19,
   "metadata": {},
   "outputs": [
    {
     "data": {
      "text/plain": [
       "[<matplotlib.lines.Line2D at 0x1756d881c48>]"
      ]
     },
     "execution_count": 19,
     "metadata": {},
     "output_type": "execute_result"
    },
    {
     "data": {
      "image/png": "[encoded data removed]",
      "text/plain": [
       "<Figure size 432x288 with 1 Axes>"
      ]
     },
     "metadata": {
      "needs_background": "light"
     },
     "output_type": "display_data"
    }
   ],
   "source": [
    "m2 = 3\n",
    "vx = np.linspace(200,0)\n",
    "h2 = heat(m2,vx)\n",
    "plt.plot(vx,h2)"
   ]
  },
  {
   "cell_type": "code",
   "execution_count": 20,
   "metadata": {},
   "outputs": [
    {
     "data": {
      "text/plain": [
       "[<matplotlib.lines.Line2D at 0x1756d925d88>]"
      ]
     },
     "execution_count": 20,
     "metadata": {},
     "output_type": "execute_result"
    },
    {
     "data": {
      "image/png": "[encoded data removed]",
      "text/plain": [
       "<Figure size 432x288 with 1 Axes>"
      ]
     },
     "metadata": {
      "needs_background": "light"
     },
     "output_type": "display_data"
    }
   ],
   "source": [
    "plt.semilogy(vx,h2)"
   ]
  },
  {
   "cell_type": "code",
   "execution_count": 41,
   "metadata": {},
   "outputs": [],
   "source": [
    "class Quaternion:\n",
    "    def __init__(self,a,b,c,d):\n",
    "        self.a = a\n",
    "        self.b = b\n",
    "        self.c = c\n",
    "        self.d = d\n",
    "        \n",
    "    def __add__(self, another_q):\n",
    "        return Quaternion(self.a + another_q.a, self.b + another_q.b, self.c + another_q.c ,self.d + another_q.d)\n",
    "    \n",
    "    def __sub__(self, another_q):\n",
    "        return Quaternion(self.a - another_q.a, self.b - another_q.b, self.c - another_q.c ,self.d - another_q.d)\n",
    "    \n",
    "    def __mul__(self, another_q):\n",
    "        return Quaternion(\n",
    "            self.a * another_q.a - self.b * another_q.b - self.c * another_q.c - self.d * another_q.d,\n",
    "            self.b * another_q.a + self.a * another_q.b + self.c * another_q.d - self.d * another_q.c,\n",
    "            self.a * another_q.c - self.b * another_q.d + self.c * another_q.a + self.d * another_q.b,\n",
    "            self.a * another_q.d + self.b * another_q.c - self.c * another_q.b + self.d * another_q.a\n",
    "        )\n",
    "    def __truediv__(self, another_q):\n",
    "        denominator = another_q.a**2 + another_q.b**2 + another_q.c**2 + another_q.d**2\n",
    "        another_q_inveersed = Quaternion(\n",
    "            another_q.a/denominator,\n",
    "            -another_q.b/denominator,\n",
    "            -another_q.c/denominator,\n",
    "            -another_q.d/denominator\n",
    "        )\n",
    "        return self * another_q_inveersed\n",
    "    \n",
    "    def __floordiv__(self, another_q):\n",
    "        denominator = another_q.a**2 + another_q.b**2 + another_q.c**2 + another_q.d**2\n",
    "        another_q_inveersed = Quaternion(\n",
    "            another_q.a//denominator,\n",
    "            -another_q.b//denominator,\n",
    "            -another_q.c//denominator,\n",
    "            -another_q.d//denominator\n",
    "        )\n",
    "        return self * another_q_inveersed\n",
    "    \n",
    "    def conjugate(self):\n",
    "        self.a = -self.a\n",
    "        self.b = -self.b\n",
    "        self.c = -self.c\n",
    "        self.d = -self.d\n",
    "        \n",
    "    def normalise(self):\n",
    "        n = math.sqrt(self.a**2 + self.b**2 + self.c**2 + self.d**2)\n",
    "        self.a /= n\n",
    "        self.b /= n\n",
    "        self.c /= n\n",
    "        self.d /= n"
   ]
  }
 ],
 "metadata": {
  "kernelspec": {
   "display_name": "Python 3",
   "language": "python",
   "name": "python3"
  },
  "language_info": {
   "codemirror_mode": {
    "name": "ipython",
    "version": 3
   },
   "file_extension": ".py",
   "mimetype": "text/x-python",
   "name": "python",
   "nbconvert_exporter": "python",
   "pygments_lexer": "ipython3",
   "version": "3.7.6"
  }
 },
 "nbformat": 4,
 "nbformat_minor": 2
}
